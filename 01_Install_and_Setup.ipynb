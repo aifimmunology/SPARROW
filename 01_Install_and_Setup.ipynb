{
 "cells": [
  {
   "cell_type": "markdown",
   "id": "f22c381f-1bcc-46fd-b864-11a89991bc78",
   "metadata": {},
   "source": [
    "# 01 Install and Setup\n",
    "## Clone the Xenium repository\n",
    "```bash\n",
    "git clone https://github.com/peiyaozhao617/SPARROW.git\n",
    "```\n",
    "## Create a Conda environment with SPARROW dependencies\n",
    "Here we create the environment in the local folder named `./sparrow`.\n",
    "```\n",
    "mamba create  --prefix ./sparrow dask pyro-ppl pysal pytorch_geometric pytorch\n",
    "\n",
    "conda activate ./sparrow\n",
    "```"
   ]
  },
  {
   "cell_type": "markdown",
   "id": "a85147a9-b283-4699-8350-500052089296",
   "metadata": {},
   "source": [
    "## Set up conda environment as a kernel for jupyter notebooks\n",
    "```\n",
    "conda install -c anaconda ipykernel\n",
    "python -m ipykernel install --user --name=/home/jupyter/sparrow/\n",
    "```\n",
    "Then go to Kernel > Change Kernel and select \"Python [conda env:sparrow]\" from the dropdown.\n",
    "Restart the kernel, and run the following cells:"
   ]
  },
  {
   "cell_type": "code",
   "execution_count": 3,
   "id": "fb0c380c-98e8-416c-baa2-1010c32f1910",
   "metadata": {},
   "outputs": [],
   "source": [
    "import numpy as np\n",
    "import pandas as pd\n",
    "import matplotlib.pyplot as plt\n",
    "import scanpy as sc\n",
    "import dask.dataframe as dd\n",
    "import os\n",
    "import torch\n",
    "import umap\n",
    "import json\n",
    "from sklearn.preprocessing import LabelEncoder\n",
    "import pyro.optim\n",
    "from pyro.infer import SVI, config_enumerate, Trace_ELBO"
   ]
  },
  {
   "cell_type": "code",
   "execution_count": 2,
   "id": "e21db1e8-dab9-4903-b6fc-225c67e4ba97",
   "metadata": {},
   "outputs": [],
   "source": [
    "os.chdir(\"/home/jupyter/tools\")\n",
    "from SPARROW import preprocessing\n",
    "from SPARROW import VAE"
   ]
  },
  {
   "cell_type": "markdown",
   "id": "39251850-557d-4e59-b866-d7ba9cf707b5",
   "metadata": {},
   "source": [
    "If these completed without errors (warnings are fine) you should be good to go!\n",
    "\n",
    "*Notebook prepared by Imran McGrath imran.mcgrath@alleninstitute.org"
   ]
  },
  {
   "cell_type": "code",
   "execution_count": null,
   "id": "3f536cb5-831e-4049-9332-fd35fbd48b42",
   "metadata": {},
   "outputs": [],
   "source": []
  }
 ],
 "metadata": {
  "kernelspec": {
   "display_name": "Python [conda env:jupyter-spatial2]",
   "language": "python",
   "name": "conda-env-jupyter-spatial2-py"
  },
  "language_info": {
   "codemirror_mode": {
    "name": "ipython",
    "version": 3
   },
   "file_extension": ".py",
   "mimetype": "text/x-python",
   "name": "python",
   "nbconvert_exporter": "python",
   "pygments_lexer": "ipython3",
   "version": "3.9.15"
  }
 },
 "nbformat": 4,
 "nbformat_minor": 5
}
