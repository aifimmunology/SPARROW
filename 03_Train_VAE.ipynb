{
 "cells": [
  {
   "cell_type": "markdown",
   "id": "e3c6323e-7961-40d6-9c58-dda9b37c695d",
   "metadata": {},
   "source": [
    "# 03 Train VAE\n",
    "The `vae` module of SPARROW performs cell type inference via a latent representation $Z$, in both supervised and unsupervised modes. In the supervised mode, $Z$ coembeds the expression matrix $X$ of the SRT data with the expression matrix $X'$ of the scRNA-seq data from analogous tissues. \n"
   ]
  },
  {
   "cell_type": "code",
   "execution_count": 2,
   "id": "9f314a94-cac7-4aa7-b72f-94e6dd91dda3",
   "metadata": {
    "scrolled": true
   },
   "outputs": [],
   "source": [
    "import numpy as np\n",
    "import pandas as pd\n",
    "import matplotlib.pyplot as plt\n",
    "import seaborn as sns\n",
    "import scanpy as sc\n",
    "import dask.dataframe as dd\n",
    "import os\n",
    "import scanpy as sc\n",
    "import torch\n",
    "import umap\n",
    "import json\n",
    "from sklearn.preprocessing import LabelEncoder\n",
    "import pyro.optim\n",
    "from pyro.infer import SVI, config_enumerate, Trace_ELBO\n",
    "\n",
    "os.chdir(\"/home/jupyter/tools/\")\n",
    "from SPARROW import preprocessing\n",
    "from SPARROW import VAE"
   ]
  },
  {
   "cell_type": "code",
   "execution_count": 4,
   "id": "e96371a2-c7fb-4bf7-af01-d5e32ff2fc7d",
   "metadata": {},
   "outputs": [],
   "source": [
    "# Set the subdirectory in which you will save model outputs\n",
    "\n",
    "my_model_dir = \"test_model\"\n",
    "directory = f\"/home/jupyter/sparrow_demo/{my_model_dir}\"\n",
    "if not os.path.exists (directory):\n",
    "    os.makedirs(directory)\n",
    "\n",
    "os.chdir(directory)"
   ]
  },
  {
   "cell_type": "markdown",
   "id": "912f5260-c83c-432b-9bae-edfdf9cf7a15",
   "metadata": {},
   "source": [
    "## orthogonal scRNA-seq is available"
   ]
  },
  {
   "cell_type": "code",
   "execution_count": 5,
   "id": "0255c1fd-d6f9-4ec3-848e-36ea950968c8",
   "metadata": {},
   "outputs": [
    {
     "data": {
      "text/plain": [
       "AnnData object with n_obs × n_vars = 253950 × 224\n",
       "    obs: 'celltypes'\n",
       "    var: 'genes'"
      ]
     },
     "execution_count": 5,
     "metadata": {},
     "output_type": "execute_result"
    }
   ],
   "source": [
    "# Load the scRNA-seq anndata\n",
    "scRNA_seq=sc.read_h5ad(\"/home/jupyter/tools/SPARROW/testdata/tonsil_scRNA.h5ad\")\n",
    "scRNA_seq"
   ]
  },
  {
   "cell_type": "code",
   "execution_count": 9,
   "id": "82e0fa3b-5bb1-453b-9a8a-6999089a8c73",
   "metadata": {
    "scrolled": true
   },
   "outputs": [
    {
     "data": {
      "text/plain": [
       "<SPARROW.preprocessing.ingest.read_parquet at 0x7f181b1aba00>"
      ]
     },
     "execution_count": 9,
     "metadata": {},
     "output_type": "execute_result"
    }
   ],
   "source": [
    "# Load the parquet file previously created according to notebook 02\n",
    "parquet_dir = \"/home/jupyter/sparrow_demo/test_parquet/\"\n",
    "obj = preprocessing.ingest.read_parquet(f\"{parquet_dir}\",n_meta_col=9)\n",
    "obj"
   ]
  },
  {
   "cell_type": "code",
   "execution_count": 10,
   "id": "341e1449-05b1-41af-a3b6-47b173bd1a89",
   "metadata": {},
   "outputs": [
    {
     "data": {
      "text/plain": [
       "Index(['CD4', 'TNFRSF17', 'IL4R', 'TBX21', 'CLIC5', 'PILRA', 'OSM', 'LGALS2',\n",
       "       'PIK3IP1', 'IL2RB',\n",
       "       ...\n",
       "       'Blank-10', 'Blank-11', 'Blank-12', 'Blank-13', 'Blank-14', 'Blank-15',\n",
       "       'Blank-16', 'Blank-17', 'Blank-18', 'Blank-19'],\n",
       "      dtype='object', length=462)"
      ]
     },
     "execution_count": 10,
     "metadata": {},
     "output_type": "execute_result"
    }
   ],
   "source": [
    "#check the parquet file is loaded properly\n",
    "obj._genes"
   ]
  },
  {
   "cell_type": "code",
   "execution_count": 11,
   "id": "063402c3-c776-4079-9a8d-476154e6c538",
   "metadata": {},
   "outputs": [],
   "source": [
    "#Split data into training and testing sets for spatial and scRNA-seq data\n",
    "#first select training gene features. The command below selectes gene features that are expressed in at least 5% of all cells,\n",
    "#the feature variance being above 0.1\n",
    "features_to_train = VAE.vae.feature_selection(obj,genes=None,min_perc=0.05,var=0)\n"
   ]
  },
  {
   "cell_type": "code",
   "execution_count": 14,
   "id": "c1ebb113-5226-4d01-8140-94410210f7fe",
   "metadata": {},
   "outputs": [
    {
     "data": {
      "text/plain": [
       "['CD4',\n",
       " 'TNFRSF17',\n",
       " 'IL4R',\n",
       " 'TBX21',\n",
       " 'OSM',\n",
       " 'LGALS2',\n",
       " 'PIK3IP1',\n",
       " 'IL2RB',\n",
       " 'GZMB',\n",
       " 'PAG1',\n",
       " 'RELB',\n",
       " 'EBI3',\n",
       " 'TGFB1',\n",
       " 'NKG7',\n",
       " 'COL1A1',\n",
       " 'KLRB1',\n",
       " 'GZMK',\n",
       " 'PASK',\n",
       " 'CASP8AP2',\n",
       " 'TNFAIP3']"
      ]
     },
     "execution_count": 14,
     "metadata": {},
     "output_type": "execute_result"
    }
   ],
   "source": [
    "features_to_train[:20]"
   ]
  },
  {
   "cell_type": "code",
   "execution_count": 17,
   "id": "5484e11f-1049-42df-b3c4-1108330c9011",
   "metadata": {},
   "outputs": [
    {
     "data": {
      "text/html": [
       "<div>\n",
       "<style scoped>\n",
       "    .dataframe tbody tr th:only-of-type {\n",
       "        vertical-align: middle;\n",
       "    }\n",
       "\n",
       "    .dataframe tbody tr th {\n",
       "        vertical-align: top;\n",
       "    }\n",
       "\n",
       "    .dataframe thead th {\n",
       "        text-align: right;\n",
       "    }\n",
       "</style>\n",
       "<table border=\"1\" class=\"dataframe\">\n",
       "  <thead>\n",
       "    <tr style=\"text-align: right;\">\n",
       "      <th></th>\n",
       "      <th>genes</th>\n",
       "    </tr>\n",
       "  </thead>\n",
       "  <tbody>\n",
       "    <tr>\n",
       "      <th>CD4</th>\n",
       "      <td>CD4</td>\n",
       "    </tr>\n",
       "    <tr>\n",
       "      <th>TNFRSF17</th>\n",
       "      <td>TNFRSF17</td>\n",
       "    </tr>\n",
       "    <tr>\n",
       "      <th>IL4R</th>\n",
       "      <td>IL4R</td>\n",
       "    </tr>\n",
       "    <tr>\n",
       "      <th>LGALS2</th>\n",
       "      <td>LGALS2</td>\n",
       "    </tr>\n",
       "    <tr>\n",
       "      <th>PIK3IP1</th>\n",
       "      <td>PIK3IP1</td>\n",
       "    </tr>\n",
       "    <tr>\n",
       "      <th>...</th>\n",
       "      <td>...</td>\n",
       "    </tr>\n",
       "    <tr>\n",
       "      <th>MYO1F</th>\n",
       "      <td>MYO1F</td>\n",
       "    </tr>\n",
       "    <tr>\n",
       "      <th>FOXP1</th>\n",
       "      <td>FOXP1</td>\n",
       "    </tr>\n",
       "    <tr>\n",
       "      <th>MUC1</th>\n",
       "      <td>MUC1</td>\n",
       "    </tr>\n",
       "    <tr>\n",
       "      <th>EBF1</th>\n",
       "      <td>EBF1</td>\n",
       "    </tr>\n",
       "    <tr>\n",
       "      <th>TCF4</th>\n",
       "      <td>TCF4</td>\n",
       "    </tr>\n",
       "  </tbody>\n",
       "</table>\n",
       "<p>224 rows × 1 columns</p>\n",
       "</div>"
      ],
      "text/plain": [
       "             genes\n",
       "CD4            CD4\n",
       "TNFRSF17  TNFRSF17\n",
       "IL4R          IL4R\n",
       "LGALS2      LGALS2\n",
       "PIK3IP1    PIK3IP1\n",
       "...            ...\n",
       "MYO1F        MYO1F\n",
       "FOXP1        FOXP1\n",
       "MUC1          MUC1\n",
       "EBF1          EBF1\n",
       "TCF4          TCF4\n",
       "\n",
       "[224 rows x 1 columns]"
      ]
     },
     "execution_count": 17,
     "metadata": {},
     "output_type": "execute_result"
    }
   ],
   "source": [
    "scRNA_seq.var"
   ]
  },
  {
   "cell_type": "code",
   "execution_count": 20,
   "id": "7abbe3db-a0bd-4783-afdb-d6d032304178",
   "metadata": {},
   "outputs": [
    {
     "data": {
      "text/plain": [
       "210"
      ]
     },
     "execution_count": 20,
     "metadata": {},
     "output_type": "execute_result"
    }
   ],
   "source": [
    "#now find the intersection between selected gene features from SRT and those in scRNA-seq\n",
    "scrna_genes = set(np.unique(scRNA_seq.var['genes']))\n",
    "selected_features=set(features_to_train).intersection(scrna_genes)\n",
    "len(selected_features)"
   ]
  },
  {
   "cell_type": "code",
   "execution_count": 21,
   "id": "19850dbe-3c50-4fdf-ba80-2bdebee5e405",
   "metadata": {},
   "outputs": [
    {
     "data": {
      "text/plain": [
       "AnnData object with n_obs × n_vars = 253950 × 224\n",
       "    obs: 'celltypes'\n",
       "    var: 'genes'"
      ]
     },
     "execution_count": 21,
     "metadata": {},
     "output_type": "execute_result"
    }
   ],
   "source": [
    "scRNA_seq"
   ]
  },
  {
   "cell_type": "code",
   "execution_count": 22,
   "id": "69a97676-08b4-44ae-a0e8-f54dafb53722",
   "metadata": {},
   "outputs": [],
   "source": [
    "#train test split \n",
    "X_train,X_test,X_prime_train,X_prime_test,label_train,label_test = VAE.vae.train_test_split(\n",
    "    obj,\n",
    "    scRNA_seq,\n",
    "    label='celltypes',\n",
    "    use_xprime_labels=True,\n",
    "    selected_features=set(features_to_train).intersection(scrna_genes),\n",
    "    train_perc=0.8,\n",
    "    random_seed=42,\n",
    "    output_path = directory\n",
    ")"
   ]
  },
  {
   "cell_type": "code",
   "execution_count": 23,
   "id": "e791bf58-79d9-4314-bcf2-5a9434fee4e5",
   "metadata": {},
   "outputs": [
    {
     "data": {
      "text/plain": [
       "((500204, 210), (125051, 210), (203160, 210), (50790, 210), 203160, 50790)"
      ]
     },
     "execution_count": 23,
     "metadata": {},
     "output_type": "execute_result"
    }
   ],
   "source": [
    "X_train.shape, X_test.shape, X_prime_train.shape, X_prime_test.shape, len(label_train), len(label_test)"
   ]
  },
  {
   "cell_type": "code",
   "execution_count": 24,
   "id": "61ef1334-7942-4b53-94d4-3f41181badb1",
   "metadata": {},
   "outputs": [
    {
     "data": {
      "text/plain": [
       "14"
      ]
     },
     "execution_count": 24,
     "metadata": {},
     "output_type": "execute_result"
    }
   ],
   "source": [
    "#Initialize VAE model with specific dimensions for input ( X_train.shape[1]) ,hidden layers ([200,100,80]), and logit layers ([50,40,14]). The last dimension of logits layers need to be the same as the number of cell types defined in accompanying scRNA-seq data.\n",
    "len(np.unique(scRNA_seq.obs))"
   ]
  },
  {
   "cell_type": "code",
   "execution_count": 25,
   "id": "a425fad9-9350-4c49-a1c2-ecc2ed1ba811",
   "metadata": {},
   "outputs": [],
   "source": [
    "#set up model architecture. Layer dimensions and layer numbers are both tunable parameters.\n",
    "VAEmodel=VAE.vae.vae(X_train.shape[1],[160,84],[64,32,14])\n",
    "\n",
    "# Provide a name for saving the model\n",
    "model_output_name = \"sparrow_demo_vae_model\"\n",
    "\n",
    "# Set up the optimizer for training\n",
    "\n",
    "AdamArgs = {'lr': 2e-3, 'weight_decay': 1e-5}\n",
    "optimizer = pyro.optim.Adam(AdamArgs)\n",
    "svi = SVI(\n",
    "    VAEmodel.model, \n",
    "    config_enumerate(VAEmodel.guide, \"sequential\", expand=True),\n",
    "    optimizer, \n",
    "    loss=Trace_ELBO()\n",
    ")"
   ]
  },
  {
   "cell_type": "code",
   "execution_count": 33,
   "id": "c8e58a24-6ed0-409a-8d12-e4be024059d6",
   "metadata": {},
   "outputs": [],
   "source": [
    "# Begin training and monitor the loss. The loss is written to a log file with a user defined name.\n",
    "VAE.vae.train(\n",
    "    VAEmodel, svi, X_train.values, X_prime_train, label_train,\n",
    "    num_epochs = 200,\n",
    "    log_name = f\"{directory}/training_{model_output_name}.log\",\n",
    "    write = False,  #we are not saving the model yet. If saving is desired, set write=True\n",
    ") \n",
    "\n"
   ]
  },
  {
   "cell_type": "code",
   "execution_count": 48,
   "id": "cb4d7ce6-c409-41ba-bde9-aba4a5841b7e",
   "metadata": {},
   "outputs": [
    {
     "data": {
      "text/plain": [
       "Text(0.5, 0, 'epoch')"
      ]
     },
     "execution_count": 48,
     "metadata": {},
     "output_type": "execute_result"
    },
    {
     "data": {
      "image/png": "[encoded data removed]",
      "text/plain": [
       "<Figure size 640x480 with 1 Axes>"
      ]
     },
     "metadata": {},
     "output_type": "display_data"
    }
   ],
   "source": [
    "#check loss curve\n",
    "loss=pd.read_table(f\"{directory}/training_{model_output_name}.log\",sep=',',header=None)\n",
    "#plot loss curve\n",
    "plt.plot(loss.iloc[:,-1].str.extract(r'Average Loss: (\\d+\\.\\d+)').astype(float)[:])\n",
    "plt.xlabel('epoch')"
   ]
  },
  {
   "cell_type": "code",
   "execution_count": null,
   "id": "ac465a4b-db74-4537-be88-32f85e726956",
   "metadata": {},
   "outputs": [],
   "source": [
    "# Save the trained model once training stabilizes\n",
    "VAEmodel.eval()\n",
    "torch.save(VAEmodel.state_dict(), f\"./training_{model_output_name}.json\")"
   ]
  },
  {
   "cell_type": "code",
   "execution_count": null,
   "id": "2e80abf6-c17e-43e7-bc2a-5219aa533767",
   "metadata": {},
   "outputs": [],
   "source": []
  }
 ],
 "metadata": {
  "kernelspec": {
   "display_name": "Python [conda env:jupyter-spatial2]",
   "language": "python",
   "name": "conda-env-jupyter-spatial2-py"
  },
  "language_info": {
   "codemirror_mode": {
    "name": "ipython",
    "version": 3
   },
   "file_extension": ".py",
   "mimetype": "text/x-python",
   "name": "python",
   "nbconvert_exporter": "python",
   "pygments_lexer": "ipython3",
   "version": "3.9.15"
  }
 },
 "nbformat": 4,
 "nbformat_minor": 5
}
